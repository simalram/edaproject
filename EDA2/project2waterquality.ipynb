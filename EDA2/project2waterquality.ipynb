{
 "cells": [
  {
   "cell_type": "markdown",
   "metadata": {},
   "source": [
    "## Introduction"
   ]
  },
  {
   "cell_type": "markdown",
   "metadata": {},
   "source": [
    "This dataset presents water quality analysis results, capturing key parameters measured across various sites. Each record includes details such as sample identification, collection date, depth, and location, alongside specific water quality parameters and their measured values. The data is essential for monitoring environmental conditions, assessing potential contaminants, and ensuring water safety."
   ]
  },
  {
   "cell_type": "markdown",
   "metadata": {},
   "source": [
    "# importing data"
   ]
  },
  {
   "cell_type": "code",
   "execution_count": 41,
   "metadata": {},
   "outputs": [
    {
     "name": "stdout",
     "output_type": "stream",
     "text": [
      "      Sample ID   Grab ID  Profile ID Sample Number        Collect DateTime  \\\n",
      "0         16316   16316.0       10702       9209019  04/13/1992 12:00:00 AM   \n",
      "1          8937    8937.0       37688       7915489  06/20/1979 12:00:00 AM   \n",
      "2        137745  137745.0       54368      L58228-1  06/25/2013 08:09:00 AM   \n",
      "3        131816  131816.0       50605      L55068-6  02/13/2012 09:38:00 AM   \n",
      "4         82325   82325.0       43896     L52933-87  03/30/2011 02:36:00 PM   \n",
      "...         ...       ...         ...           ...                     ...   \n",
      "1494     118601  118601.0       49632    L45838-114  05/28/2008 11:21:00 AM   \n",
      "1495     167391       NaN       73521      L6419-13         07/10/1995 9:25   \n",
      "1496      27432       NaN       30844      L38669-9        04/10/2006 11:19   \n",
      "1497     157357       NaN       68548     L70507-12  08/15/2018 02:49:00 PM   \n",
      "1498      40150   40150.0       40791     L42923-21        06/12/2007 11:58   \n",
      "\n",
      "      Depth (m)           Site Type                   Area Locator  \\\n",
      "0           1.0  Streams and Rivers                 Pipers  KSHZ06   \n",
      "1           1.0  Streams and Rivers                  Crisp     321   \n",
      "2           1.0         Large Lakes  Lake Union/Ship Canal     512   \n",
      "3           1.0         Large Lakes  Lake Union/Ship Canal     540   \n",
      "4           4.2         Large Lakes        Lake Washington     804   \n",
      "...         ...                 ...                    ...     ...   \n",
      "1494        5.1         Large Lakes        Lake Washington     840   \n",
      "1495        NaN   Marine Intertidal    Central Puget Sound  MSSM05   \n",
      "1496        NaN  Streams and Rivers                  North     474   \n",
      "1497        NaN  Streams and Rivers               Thornton     434   \n",
      "1498       20.0         Large Lakes         Lake Sammamish     611   \n",
      "\n",
      "                                            Site  ...    MDL    RDL  \\\n",
      "0                             Pipers Creek mouth  ...    NaN    NaN   \n",
      "1        Crisp Creek mouth at SE Green Valley Rd  ...    NaN    NaN   \n",
      "2                         Ship Canal above locks  ...    NaN    NaN   \n",
      "3                Ship Canal near Montlake Bridge  ...  0.002  0.005   \n",
      "4                      Lake Washington north end  ...    NaN    NaN   \n",
      "...                                          ...  ...    ...    ...   \n",
      "1494       Lake Washington east of Mercer Island  ...    NaN    NaN   \n",
      "1495                                Tramp Harbor  ...    NaN    NaN   \n",
      "1496  North Creek mouth at Sammamish River Trail  ...  0.500  1.000   \n",
      "1497   Thornton Creek mouth at Sand Point Way NE  ...  0.200  0.500   \n",
      "1498               Lake Sammamish mid-lake north  ...  0.050  0.100   \n",
      "\n",
      "                                     Text Value  Sample Info Steward Note  \\\n",
      "0     .070||King County Nstream Database/B53311          NaN          NaN   \n",
      "1        .727||King County Nstream Database/RS2          NaN          NaN   \n",
      "2                                           NaN          NaN          NaN   \n",
      "3                                           NaN          NaN          NaN   \n",
      "4                                           NaN          NaN          NaN   \n",
      "...                                         ...          ...          ...   \n",
      "1494                                        NaN          NaN          NaN   \n",
      "1495                                        NaN          NaN          NaN   \n",
      "1496                                        NaN          NaN          NaN   \n",
      "1497                                        NaN          NaN          NaN   \n",
      "1498                                        NaN          NaN          NaN   \n",
      "\n",
      "      Replicates  Replicate Of                          Method Date Analyzed  \\\n",
      "0            NaN           NaN                            none           NaN   \n",
      "1            NaN           NaN                             NaN           NaN   \n",
      "2            NaN           NaN                        HYDROLAB    06/25/2013   \n",
      "3            NaN           NaN                      SM4500-P-F    02/15/2012   \n",
      "4            NaN           NaN                        HYDROLAB           NaN   \n",
      "...          ...           ...                             ...           ...   \n",
      "1494         NaN           NaN            HYDROLAB (SOP 205V4)           NaN   \n",
      "1495         NaN           NaN                 SM-9221 C ed.17           NaN   \n",
      "1496         NaN           NaN  WHITLEDGE 1981 (03-03-012-003)    04/14/2006   \n",
      "1497         NaN           NaN                        SM2130-B    08/16/2018   \n",
      "1498         NaN           NaN     SM4500-N-C (03-03-013-003)C    06/15/2007   \n",
      "\n",
      "     Data Source  \n",
      "0           KCEL  \n",
      "1           KCEL  \n",
      "2           KCEL  \n",
      "3           KCEL  \n",
      "4           KCEL  \n",
      "...          ...  \n",
      "1494        KCEL  \n",
      "1495        KCEL  \n",
      "1496        KCEL  \n",
      "1497        KCEL  \n",
      "1498        KCEL  \n",
      "\n",
      "[1499 rows x 25 columns]\n"
     ]
    }
   ],
   "source": [
    "import pandas as pd\n",
    "import matplotlib.pyplot as plt\n",
    "import numpy as np\n",
    "import seaborn as sns\n",
    "df=pd.read_csv(r\"C:\\dataanalytics\\dataset\\Water_quality_analysis.csv\")\n",
    "print(df)"
   ]
  },
  {
   "cell_type": "code",
   "execution_count": 42,
   "metadata": {},
   "outputs": [
    {
     "name": "stdout",
     "output_type": "stream",
     "text": [
      "<class 'pandas.core.frame.DataFrame'>\n",
      "RangeIndex: 1499 entries, 0 to 1498\n",
      "Data columns (total 25 columns):\n",
      " #   Column            Non-Null Count  Dtype  \n",
      "---  ------            --------------  -----  \n",
      " 0   Sample ID         1499 non-null   int64  \n",
      " 1   Grab ID           1062 non-null   float64\n",
      " 2   Profile ID        1499 non-null   int64  \n",
      " 3   Sample Number     1499 non-null   object \n",
      " 4   Collect DateTime  1499 non-null   object \n",
      " 5   Depth (m)         1062 non-null   float64\n",
      " 6   Site Type         1499 non-null   object \n",
      " 7   Area              1499 non-null   object \n",
      " 8   Locator           1499 non-null   object \n",
      " 9   Site              1499 non-null   object \n",
      " 10  Parameter         1499 non-null   object \n",
      " 11  Value             1382 non-null   float64\n",
      " 12  Units             1497 non-null   object \n",
      " 13  QualityId         1499 non-null   int64  \n",
      " 14  Lab Qualifier     168 non-null    object \n",
      " 15  MDL               718 non-null    float64\n",
      " 16  RDL               717 non-null    float64\n",
      " 17  Text Value        275 non-null    object \n",
      " 18  Sample Info       2 non-null      object \n",
      " 19  Steward Note      2 non-null      object \n",
      " 20  Replicates        1 non-null      float64\n",
      " 21  Replicate Of      4 non-null      float64\n",
      " 22  Method            1281 non-null   object \n",
      " 23  Date Analyzed     664 non-null    object \n",
      " 24  Data Source       1499 non-null   object \n",
      "dtypes: float64(7), int64(3), object(15)\n",
      "memory usage: 292.9+ KB\n"
     ]
    }
   ],
   "source": [
    "df.info()"
   ]
  },
  {
   "cell_type": "markdown",
   "metadata": {},
   "source": [
    "### Change to datetime"
   ]
  },
  {
   "cell_type": "code",
   "execution_count": 43,
   "metadata": {},
   "outputs": [],
   "source": [
    "df[\"Collect DateTime\"]=pd.to_datetime(df[\"Collect DateTime\"])\n",
    "df[\"Date Analyzed\"]=pd.to_datetime(df[\"Date Analyzed\"])"
   ]
  },
  {
   "cell_type": "code",
   "execution_count": 44,
   "metadata": {},
   "outputs": [
    {
     "name": "stdout",
     "output_type": "stream",
     "text": [
      "<class 'pandas.core.frame.DataFrame'>\n",
      "RangeIndex: 1499 entries, 0 to 1498\n",
      "Data columns (total 25 columns):\n",
      " #   Column            Non-Null Count  Dtype         \n",
      "---  ------            --------------  -----         \n",
      " 0   Sample ID         1499 non-null   int64         \n",
      " 1   Grab ID           1062 non-null   float64       \n",
      " 2   Profile ID        1499 non-null   int64         \n",
      " 3   Sample Number     1499 non-null   object        \n",
      " 4   Collect DateTime  1499 non-null   datetime64[ns]\n",
      " 5   Depth (m)         1062 non-null   float64       \n",
      " 6   Site Type         1499 non-null   object        \n",
      " 7   Area              1499 non-null   object        \n",
      " 8   Locator           1499 non-null   object        \n",
      " 9   Site              1499 non-null   object        \n",
      " 10  Parameter         1499 non-null   object        \n",
      " 11  Value             1382 non-null   float64       \n",
      " 12  Units             1497 non-null   object        \n",
      " 13  QualityId         1499 non-null   int64         \n",
      " 14  Lab Qualifier     168 non-null    object        \n",
      " 15  MDL               718 non-null    float64       \n",
      " 16  RDL               717 non-null    float64       \n",
      " 17  Text Value        275 non-null    object        \n",
      " 18  Sample Info       2 non-null      object        \n",
      " 19  Steward Note      2 non-null      object        \n",
      " 20  Replicates        1 non-null      float64       \n",
      " 21  Replicate Of      4 non-null      float64       \n",
      " 22  Method            1281 non-null   object        \n",
      " 23  Date Analyzed     664 non-null    datetime64[ns]\n",
      " 24  Data Source       1499 non-null   object        \n",
      "dtypes: datetime64[ns](2), float64(7), int64(3), object(13)\n",
      "memory usage: 292.9+ KB\n"
     ]
    }
   ],
   "source": [
    "df.info()"
   ]
  },
  {
   "cell_type": "markdown",
   "metadata": {},
   "source": [
    "## Checking null value"
   ]
  },
  {
   "cell_type": "code",
   "execution_count": 45,
   "metadata": {},
   "outputs": [
    {
     "data": {
      "text/plain": [
       "Sample ID              0\n",
       "Grab ID              437\n",
       "Profile ID             0\n",
       "Sample Number          0\n",
       "Collect DateTime       0\n",
       "Depth (m)            437\n",
       "Site Type              0\n",
       "Area                   0\n",
       "Locator                0\n",
       "Site                   0\n",
       "Parameter              0\n",
       "Value                117\n",
       "Units                  2\n",
       "QualityId              0\n",
       "Lab Qualifier       1331\n",
       "MDL                  781\n",
       "RDL                  782\n",
       "Text Value          1224\n",
       "Sample Info         1497\n",
       "Steward Note        1497\n",
       "Replicates          1498\n",
       "Replicate Of        1495\n",
       "Method               218\n",
       "Date Analyzed        835\n",
       "Data Source            0\n",
       "dtype: int64"
      ]
     },
     "execution_count": 45,
     "metadata": {},
     "output_type": "execute_result"
    }
   ],
   "source": [
    "df.isna().sum()"
   ]
  },
  {
   "cell_type": "code",
   "execution_count": 46,
   "metadata": {},
   "outputs": [],
   "source": [
    "del df[\"Replicate Of\"]"
   ]
  },
  {
   "cell_type": "code",
   "execution_count": 47,
   "metadata": {},
   "outputs": [],
   "source": [
    "del df[\"Replicates\"]"
   ]
  },
  {
   "cell_type": "code",
   "execution_count": 48,
   "metadata": {},
   "outputs": [],
   "source": [
    "del df[\"Steward Note\"]"
   ]
  },
  {
   "cell_type": "code",
   "execution_count": 49,
   "metadata": {},
   "outputs": [],
   "source": [
    "del df[\"Sample Info\"]"
   ]
  },
  {
   "cell_type": "code",
   "execution_count": 50,
   "metadata": {},
   "outputs": [
    {
     "data": {
      "text/plain": [
       "Sample ID              0\n",
       "Grab ID              437\n",
       "Profile ID             0\n",
       "Sample Number          0\n",
       "Collect DateTime       0\n",
       "Depth (m)            437\n",
       "Site Type              0\n",
       "Area                   0\n",
       "Locator                0\n",
       "Site                   0\n",
       "Parameter              0\n",
       "Value                117\n",
       "Units                  2\n",
       "QualityId              0\n",
       "Lab Qualifier       1331\n",
       "MDL                  781\n",
       "RDL                  782\n",
       "Text Value          1224\n",
       "Method               218\n",
       "Date Analyzed        835\n",
       "Data Source            0\n",
       "dtype: int64"
      ]
     },
     "execution_count": 50,
     "metadata": {},
     "output_type": "execute_result"
    }
   ],
   "source": [
    "df.isna().sum()"
   ]
  },
  {
   "cell_type": "markdown",
   "metadata": {},
   "source": [
    "### Renaming columns"
   ]
  },
  {
   "cell_type": "code",
   "execution_count": 51,
   "metadata": {},
   "outputs": [],
   "source": [
    "df=df.rename(columns={\"Sample ID\":\"Sample_ID\",\"Grab ID\":\"Grab_ID\",\"Profile ID\":\"Profile_ID\",\"Sample Number\":\"Sample_Number\",\n",
    "                  \"Collect DateTime\":\"Collect_DateTime\",\"Depth (m)\":\"Depth(m)\",\"Site Type\":\"Site_Type\",\n",
    "                  \"Lab Qualifier\":\"Lab_Qualifier\",\"Text Value\":\"Text_Value\",\"Date Analyzed\":\"Date_Analyzed\",\"Data Source\":\"Data_Source\"})"
   ]
  },
  {
   "cell_type": "code",
   "execution_count": 52,
   "metadata": {},
   "outputs": [
    {
     "data": {
      "text/plain": [
       "Sample_ID              0\n",
       "Grab_ID              437\n",
       "Profile_ID             0\n",
       "Sample_Number          0\n",
       "Collect_DateTime       0\n",
       "Depth(m)             437\n",
       "Site_Type              0\n",
       "Area                   0\n",
       "Locator                0\n",
       "Site                   0\n",
       "Parameter              0\n",
       "Value                117\n",
       "Units                  2\n",
       "QualityId              0\n",
       "Lab_Qualifier       1331\n",
       "MDL                  781\n",
       "RDL                  782\n",
       "Text_Value          1224\n",
       "Method               218\n",
       "Date_Analyzed        835\n",
       "Data_Source            0\n",
       "dtype: int64"
      ]
     },
     "execution_count": 52,
     "metadata": {},
     "output_type": "execute_result"
    }
   ],
   "source": [
    "df.isna().sum()"
   ]
  },
  {
   "cell_type": "markdown",
   "metadata": {},
   "source": [
    "### Adding data to null space"
   ]
  },
  {
   "cell_type": "code",
   "execution_count": 53,
   "metadata": {},
   "outputs": [],
   "source": [
    "a=df[\"Grab_ID\"].mean()\n",
    "b=df[\"Grab_ID\"].fillna(a,inplace=True)"
   ]
  },
  {
   "cell_type": "code",
   "execution_count": 54,
   "metadata": {},
   "outputs": [],
   "source": [
    "a=df[\"Depth(m)\"].median()\n",
    "b=df[\"Depth(m)\"].fillna(a,inplace=True)"
   ]
  },
  {
   "cell_type": "code",
   "execution_count": 55,
   "metadata": {},
   "outputs": [],
   "source": [
    "a=df[\"Value\"].mean()\n",
    "b=df[\"Value\"].fillna(a,inplace=True)"
   ]
  },
  {
   "cell_type": "code",
   "execution_count": 56,
   "metadata": {},
   "outputs": [],
   "source": [
    "df[\"Lab_Qualifier\"].fillna(\"Not available\",inplace=True)"
   ]
  },
  {
   "cell_type": "code",
   "execution_count": 57,
   "metadata": {},
   "outputs": [],
   "source": [
    "a=df[\"MDL\"].median()\n",
    "b=df[\"MDL\"].fillna(a,inplace=True)"
   ]
  },
  {
   "cell_type": "code",
   "execution_count": 58,
   "metadata": {},
   "outputs": [],
   "source": [
    "a=df[\"RDL\"].mean()\n",
    "b=df[\"RDL\"].fillna(a,inplace=True)"
   ]
  },
  {
   "cell_type": "code",
   "execution_count": 59,
   "metadata": {},
   "outputs": [],
   "source": [
    "df[\"Text_Value\"].fillna(\"unavailable\",inplace=True)"
   ]
  },
  {
   "cell_type": "code",
   "execution_count": 60,
   "metadata": {},
   "outputs": [],
   "source": [
    "a=df[\"Date_Analyzed\"].mean()\n",
    "b=df[\"Date_Analyzed\"].fillna(a,inplace=True)"
   ]
  },
  {
   "cell_type": "code",
   "execution_count": 61,
   "metadata": {},
   "outputs": [],
   "source": [
    "df[\"Method\"].fillna(\"none\",inplace=True)"
   ]
  },
  {
   "cell_type": "code",
   "execution_count": 62,
   "metadata": {},
   "outputs": [],
   "source": [
    "df[\"Units\"].fillna(\"unaivailable\",inplace=True)"
   ]
  },
  {
   "cell_type": "code",
   "execution_count": 63,
   "metadata": {},
   "outputs": [
    {
     "data": {
      "text/plain": [
       "Sample_ID           0\n",
       "Grab_ID             0\n",
       "Profile_ID          0\n",
       "Sample_Number       0\n",
       "Collect_DateTime    0\n",
       "Depth(m)            0\n",
       "Site_Type           0\n",
       "Area                0\n",
       "Locator             0\n",
       "Site                0\n",
       "Parameter           0\n",
       "Value               0\n",
       "Units               0\n",
       "QualityId           0\n",
       "Lab_Qualifier       0\n",
       "MDL                 0\n",
       "RDL                 0\n",
       "Text_Value          0\n",
       "Method              0\n",
       "Date_Analyzed       0\n",
       "Data_Source         0\n",
       "dtype: int64"
      ]
     },
     "execution_count": 63,
     "metadata": {},
     "output_type": "execute_result"
    }
   ],
   "source": [
    "df.isna().sum()"
   ]
  },
  {
   "cell_type": "markdown",
   "metadata": {},
   "source": [
    "### Checking duplicate"
   ]
  },
  {
   "cell_type": "code",
   "execution_count": 64,
   "metadata": {},
   "outputs": [
    {
     "data": {
      "text/plain": [
       "0"
      ]
     },
     "execution_count": 64,
     "metadata": {},
     "output_type": "execute_result"
    }
   ],
   "source": [
    "df.duplicated().sum()"
   ]
  },
  {
   "cell_type": "markdown",
   "metadata": {},
   "source": [
    "## Project Questions"
   ]
  },
  {
   "cell_type": "markdown",
   "metadata": {},
   "source": [
    "1) Which is the most used site type in water quality analysis?"
   ]
  },
  {
   "cell_type": "code",
   "execution_count": 65,
   "metadata": {},
   "outputs": [
    {
     "name": "stdout",
     "output_type": "stream",
     "text": [
      "Most used site is  Large Lakes\n"
     ]
    }
   ],
   "source": [
    "z=df[\"Site_Type\"].value_counts().idxmax()\n",
    "print(\"Most used site is \",z)"
   ]
  },
  {
   "cell_type": "markdown",
   "metadata": {},
   "source": [
    "2) Which area is preffered more in analysis?"
   ]
  },
  {
   "cell_type": "code",
   "execution_count": 66,
   "metadata": {},
   "outputs": [
    {
     "name": "stdout",
     "output_type": "stream",
     "text": [
      "Most preffered area is  Lake Washington\n"
     ]
    }
   ],
   "source": [
    "z=df[\"Area\"].value_counts().idxmax()\n",
    "print(\"Most preffered area is \",z)"
   ]
  },
  {
   "cell_type": "markdown",
   "metadata": {},
   "source": [
    "3) Most Data source?"
   ]
  },
  {
   "cell_type": "code",
   "execution_count": 67,
   "metadata": {},
   "outputs": [
    {
     "name": "stdout",
     "output_type": "stream",
     "text": [
      "most data source is  KCEL\n"
     ]
    }
   ],
   "source": [
    "z=df[\"Data_Source\"].value_counts().idxmax()\n",
    "print(\"most data source is \",z)"
   ]
  },
  {
   "cell_type": "markdown",
   "metadata": {},
   "source": [
    "4) What is the average depth of samples collected?"
   ]
  },
  {
   "cell_type": "code",
   "execution_count": 68,
   "metadata": {},
   "outputs": [
    {
     "name": "stdout",
     "output_type": "stream",
     "text": [
      "Average Depth is  8.947998665777185\n"
     ]
    }
   ],
   "source": [
    "z=df[\"Depth(m)\"].mean()\n",
    "print(\"Average Depth is \",z)"
   ]
  },
  {
   "cell_type": "markdown",
   "metadata": {},
   "source": [
    "5) What is the maximum value recorded?"
   ]
  },
  {
   "cell_type": "code",
   "execution_count": 69,
   "metadata": {},
   "outputs": [
    {
     "name": "stdout",
     "output_type": "stream",
     "text": [
      "Maximum value recorded is  11000.0\n"
     ]
    }
   ],
   "source": [
    "z=df[\"Value\"].max()\n",
    "print(\"Maximum value recorded is \",z)"
   ]
  },
  {
   "cell_type": "markdown",
   "metadata": {},
   "source": [
    "6) What is the minimum value recorded?"
   ]
  },
  {
   "cell_type": "code",
   "execution_count": 70,
   "metadata": {},
   "outputs": [
    {
     "name": "stdout",
     "output_type": "stream",
     "text": [
      "Minimum value recorded is  0.0\n"
     ]
    }
   ],
   "source": [
    "z=df[\"Value\"].min()\n",
    "print(\"Minimum value recorded is \",z)"
   ]
  },
  {
   "cell_type": "markdown",
   "metadata": {},
   "source": [
    "7) What is the average depth of Large lakes?\n"
   ]
  },
  {
   "cell_type": "code",
   "execution_count": 71,
   "metadata": {},
   "outputs": [
    {
     "name": "stdout",
     "output_type": "stream",
     "text": [
      "Average depth = 11.333673469387753\n"
     ]
    }
   ],
   "source": [
    "z=df[df[\"Site_Type\"]==\"Large Lakes\"][\"Depth(m)\"]\n",
    "print(\"Average depth =\",z.mean())"
   ]
  },
  {
   "cell_type": "markdown",
   "metadata": {},
   "source": [
    "8) What are the unique site types?\n"
   ]
  },
  {
   "cell_type": "code",
   "execution_count": 72,
   "metadata": {},
   "outputs": [
    {
     "name": "stdout",
     "output_type": "stream",
     "text": [
      "unique site types are  ['Streams and Rivers' 'Large Lakes' 'Marine Intertidal' 'Marine Offshore']\n"
     ]
    }
   ],
   "source": [
    "z=df[\"Site_Type\"].unique()\n",
    "print(\"unique site types are \",z)"
   ]
  },
  {
   "cell_type": "markdown",
   "metadata": {},
   "source": [
    "9) How many samples are collected from each areas?"
   ]
  },
  {
   "cell_type": "code",
   "execution_count": 73,
   "metadata": {},
   "outputs": [
    {
     "name": "stdout",
     "output_type": "stream",
     "text": [
      "samples collected from each areas is:\n",
      "Lake Washington            523\n",
      "Lake Sammamish             252\n",
      "Lake Union/Ship Canal      156\n",
      "Central Puget Sound         53\n",
      "Green                       47\n",
      "Bear                        30\n",
      "Issaquah                    22\n",
      "Duwamish                    21\n",
      "Sammamish                   20\n",
      "Cedar                       18\n",
      "Pipers                      18\n",
      "Crisp                       17\n",
      "Juanita                     17\n",
      "Jenkins                     15\n",
      "North                       15\n",
      "Longfellow                  14\n",
      "Idylwood                    14\n",
      "Newaukum                    14\n",
      "Kelsey                      13\n",
      "McAleer                     12\n",
      "Forbes                      12\n",
      "Swamp                       11\n",
      "Lyon                        11\n",
      "May                         11\n",
      "Soos                        11\n",
      "Tibbetts                    11\n",
      "Mill                        10\n",
      "Little Bear                 10\n",
      "Evans                        9\n",
      "Covington                    9\n",
      "Springbrook/Black River      8\n",
      "Little Soos                  8\n",
      "Cottage Lake Creek           8\n",
      "Coal                         7\n",
      "Lewis                        6\n",
      "Cochran Springs              5\n",
      "Thornton                     4\n",
      "Ravensdale                   4\n",
      "Ebright                      4\n",
      "Snoqualmie - South Fork      4\n",
      "Judd                         4\n",
      "Rock                         4\n",
      "Fairweather                  4\n",
      "Mileta                       4\n",
      "Venema                       3\n",
      "Harris Creek                 3\n",
      "Tahlequah                    3\n",
      "Pine Lake                    3\n",
      "Patterson Creek              3\n",
      "Fisher                       2\n",
      "Shinglemill                  2\n",
      "Tolt River                   2\n",
      "Boise                        2\n",
      "Ames Creek                   2\n",
      "Zackuse                      1\n",
      "Eden                         1\n",
      "Cherry Creek                 1\n",
      "Gorsuch                      1\n",
      "Name: Area, dtype: int64\n"
     ]
    }
   ],
   "source": [
    "z=df[\"Area\"].value_counts()\n",
    "print(\"samples collected from each areas is:\")\n",
    "print(z)"
   ]
  },
  {
   "cell_type": "markdown",
   "metadata": {},
   "source": [
    "10) What are the main 5 different parameters used for water quality analysis? and show them in chart"
   ]
  },
  {
   "cell_type": "code",
   "execution_count": 74,
   "metadata": {},
   "outputs": [
    {
     "name": "stdout",
     "output_type": "stream",
     "text": [
      "The most used 5 different parameters and their counts used for the analysis are:\n",
      "Temperature                           151\n",
      "pH  Field                             125\n",
      "Conductivity  Field                   116\n",
      "Dissolved Oxygen  Field               108\n",
      "Dissolved Oxygen Saturation  Field     92\n",
      "Name: Parameter, dtype: int64\n"
     ]
    },
    {
     "data": {
      "text/plain": [
       "<Axes: >"
      ]
     },
     "execution_count": 74,
     "metadata": {},
     "output_type": "execute_result"
    },
    {
     "data": {
      "image/png": "[encoded data removed]",
      "text/plain": [
       "<Figure size 640x480 with 1 Axes>"
      ]
     },
     "metadata": {},
     "output_type": "display_data"
    }
   ],
   "source": [
    "z=df[\"Parameter\"].value_counts().head(5)\n",
    "print(\"The most used 5 different parameters and their counts used for the analysis are:\")\n",
    "print(z)\n",
    "z.plot(kind=\"bar\")"
   ]
  },
  {
   "cell_type": "markdown",
   "metadata": {},
   "source": [
    "11) What is the earliest date of sample collection?"
   ]
  },
  {
   "cell_type": "code",
   "execution_count": 75,
   "metadata": {},
   "outputs": [
    {
     "name": "stdout",
     "output_type": "stream",
     "text": [
      "Earliest date collected is  1972-06-05 00:00:00\n"
     ]
    }
   ],
   "source": [
    "z=df[\"Collect_DateTime\"].min()\n",
    "print(\"Earliest date collected is \",z)"
   ]
  },
  {
   "cell_type": "markdown",
   "metadata": {},
   "source": [
    "12) How many samples have lab qualifiers?"
   ]
  },
  {
   "cell_type": "code",
   "execution_count": 76,
   "metadata": {},
   "outputs": [
    {
     "name": "stdout",
     "output_type": "stream",
     "text": [
      "count of lab qualifiers 1499\n"
     ]
    }
   ],
   "source": [
    "z=df[\"Lab_Qualifier\"].count()\n",
    "print(\"count of lab qualifiers\",z)"
   ]
  },
  {
   "cell_type": "markdown",
   "metadata": {},
   "source": [
    "13) How many samples have Quality id of 1?"
   ]
  },
  {
   "cell_type": "code",
   "execution_count": 77,
   "metadata": {},
   "outputs": [
    {
     "name": "stdout",
     "output_type": "stream",
     "text": [
      "quality id of 1 = 110\n"
     ]
    }
   ],
   "source": [
    "z=len(df[df[\"QualityId\"]==1])\n",
    "print(\"quality id of 1 =\",z)"
   ]
  },
  {
   "cell_type": "markdown",
   "metadata": {},
   "source": [
    "14) What is the date of the latest analysis?"
   ]
  },
  {
   "cell_type": "code",
   "execution_count": 78,
   "metadata": {},
   "outputs": [
    {
     "name": "stdout",
     "output_type": "stream",
     "text": [
      "latest date analysed is  2019-08-12 00:00:00\n"
     ]
    }
   ],
   "source": [
    "z=df[\"Date_Analyzed\"].max()\n",
    "print(\"latest date analysed is \",z)"
   ]
  },
  {
   "cell_type": "markdown",
   "metadata": {},
   "source": [
    "15) What is the average pH value?"
   ]
  },
  {
   "cell_type": "code",
   "execution_count": 79,
   "metadata": {},
   "outputs": [
    {
     "name": "stdout",
     "output_type": "stream",
     "text": [
      "nan\n"
     ]
    }
   ],
   "source": [
    "z=df[df[\"Parameter\"]==\"pH Field\"][\"Value\"].mean()\n",
    "print(z)"
   ]
  },
  {
   "cell_type": "markdown",
   "metadata": {},
   "source": [
    "## Conclusion"
   ]
  },
  {
   "cell_type": "markdown",
   "metadata": {},
   "source": [
    "The data is based on Water Quality Analysis. The analysis held in different areas, sites and site types on different date and time. \n",
    "The Most used site is in the analysis is Large Lakes and the Most preffered area is  Lake Washington. The most data source is KCEL, Average Depth of samples collected is  10.572, in that the Average depth of Large lakes is around 11.33. The Maximum value recorded is  11000.0 and the minimum is 0.0. unique site types among this are Streams and Rivers, Large Lakes, Marine Intertidal, Marine Offshore. Earliest date sample collected is  1972-06-05 and latest date analysed is  2019-08-12. The count of lab qualifiers according to the data is 1499 and quality id of 1 is 110."
   ]
  }
 ],
 "metadata": {
  "kernelspec": {
   "display_name": "base",
   "language": "python",
   "name": "python3"
  },
  "language_info": {
   "codemirror_mode": {
    "name": "ipython",
    "version": 3
   },
   "file_extension": ".py",
   "mimetype": "text/x-python",
   "name": "python",
   "nbconvert_exporter": "python",
   "pygments_lexer": "ipython3",
   "version": "3.10.9"
  }
 },
 "nbformat": 4,
 "nbformat_minor": 2
}
