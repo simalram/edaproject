{
 "cells": [
  {
   "cell_type": "markdown",
   "metadata": {},
   "source": [
    "## Introduction"
   ]
  },
  {
   "cell_type": "markdown",
   "metadata": {},
   "source": [
    "The data is the collection of TV shows that is based on different channels, types, Languages etc... The TV Show Data contains various attributes describing different television shows. This dataset helps analyze TV show trends, ratings, and other key characteristics."
   ]
  },
  {
   "cell_type": "markdown",
   "metadata": {},
   "source": [
    "## Importing Data"
   ]
  },
  {
   "cell_type": "code",
   "execution_count": 1,
   "metadata": {},
   "outputs": [
    {
     "name": "stdout",
     "output_type": "stream",
     "text": [
      "                            Name  \\\n",
      "0                   Breaking Bad   \n",
      "1                        Firefly   \n",
      "2     Avatar: The Last Airbender   \n",
      "3                       Sherlock   \n",
      "4                Attack on Titan   \n",
      "...                          ...   \n",
      "2560   America's Next Weatherman   \n",
      "2561       America the Beautiful   \n",
      "2562           Project Afterlife   \n",
      "2563        The Director's Chair   \n",
      "2564                 Gunslingers   \n",
      "\n",
      "                                                Summary  Average Runtime  \\\n",
      "0     Breaking Bad follows protagonist Walter White,...             60.0   \n",
      "1     Five hundred years in the future, a renegade c...             64.0   \n",
      "2     Water. Earth. Fire. Air. Only the Avatar was t...             30.0   \n",
      "3     Sherlock Holmes and Dr. John Watson's adventur...             90.0   \n",
      "4     Known in Japan as Shingeki no Kyojin, many yea...             26.0   \n",
      "...                                                 ...              ...   \n",
      "2560  America's Next Weatherman has each classic rea...             30.0   \n",
      "2561  America's vast and iconic landscapes host clim...             30.0   \n",
      "2562  People who say they have visited the afterlife...             60.0   \n",
      "2563  The Director's Chair is candid, off-the-cuff c...             60.0   \n",
      "2564  American Heroes Channel's new series, Gunsling...             45.0   \n",
      "\n",
      "        End Date Premiere Date                                       Genres  \\\n",
      "0     2008-01-20    2019-10-11               ['Drama', 'Crime', 'Thriller']   \n",
      "1     2002-09-20    2002-12-20    ['Drama', 'Adventure', 'Science-Fiction']   \n",
      "2     2005-02-21    2008-07-19           ['Action', 'Adventure', 'Fantasy']   \n",
      "3     2010-07-25    2017-01-15                ['Drama', 'Crime', 'Mystery']   \n",
      "4     2013-04-07    2023-11-04  ['Action', 'Adventure', 'Anime', 'Fantasy']   \n",
      "...          ...           ...                                          ...   \n",
      "2560  2015-08-08    2015-09-26                                   ['Comedy']   \n",
      "2561  2015-08-09    2016-05-22                         ['Nature', 'Travel']   \n",
      "2562  2015-08-09    2015-09-13                                           []   \n",
      "2563  2014-07-30    2018-11-26                                           []   \n",
      "2564  2014-07-20    2015-08-23                                  ['Western']   \n",
      "\n",
      "             Type  Language              Network  Rating Schedule (days)  \\\n",
      "0        Scripted   English                  AMC     9.2      ['Sunday']   \n",
      "1        Scripted   English                  FOX     9.0      ['Friday']   \n",
      "2       Animation   English          Nickelodeon     8.9    ['Saturday']   \n",
      "3        Scripted   English              BBC One     8.9      ['Sunday']   \n",
      "4       Animation  Japanese                  NHK     8.9    ['Saturday']   \n",
      "...           ...       ...                  ...     ...             ...   \n",
      "2560      Reality   English                  TBS     NaN    ['Saturday']   \n",
      "2561  Documentary   English       Travel Channel     NaN      ['Sunday']   \n",
      "2562  Documentary   English  Destination America     NaN      ['Sunday']   \n",
      "2563    Talk Show   English       El Rey Network     NaN      ['Sunday']   \n",
      "2564  Documentary   English                  AHC     NaN      ['Sunday']   \n",
      "\n",
      "     Schedule (time)  Total Seasons  Total Episodes  \\\n",
      "0              22:00              5              62   \n",
      "1              20:00              1              14   \n",
      "2              11:00              3              61   \n",
      "3              21:00              4              12   \n",
      "4              00:10              4              89   \n",
      "...              ...            ...             ...   \n",
      "2560           23:00              1               8   \n",
      "2561           12:00              2              10   \n",
      "2562           22:00              1               6   \n",
      "2563           20:00              1              12   \n",
      "2564           22:00              2              12   \n",
      "\n",
      "                                        Character Names  \\\n",
      "0     0-Walter White, 1-Jesse Pinkman, 2-Skyler Whit...   \n",
      "1     0-Captain Malcolm \"Mal\" Reynolds, 1-Zoe Alleyn...   \n",
      "2     0-Aang, 1-Katara, 2-Sokka, 3-Zuko, 4-Appa, 5-M...   \n",
      "3                  0-Sherlock Holmes, 1-Dr. John Watson   \n",
      "4      0-Mikasa Ackerman, 1-Armin Arlert, 2-Eren Jaeger   \n",
      "...                                                 ...   \n",
      "2560                           0-Host, 1-Judge, 2-Judge   \n",
      "2561                                         0-Narrator   \n",
      "2562                                                NaN   \n",
      "2563                                             0-Host   \n",
      "2564                                                NaN   \n",
      "\n",
      "                                           Person Names  \\\n",
      "0     0-Bryan Cranston, 1-Aaron Paul, 2-Anna Gunn, 3...   \n",
      "1     0-Nathan Fillion, 1-Gina Torres, 2-Alan Tudyk,...   \n",
      "2     0-Zach Tyler, 1-Mae Whitman, 2-Jack De Sena, 3...   \n",
      "3              0-Benedict Cumberbatch, 1-Martin Freeman   \n",
      "4           0-Yui Ishikawa, 1-Marina Inoue, 2-Yûki Kaji   \n",
      "...                                                 ...   \n",
      "2560  0-Matt Oberg, 1-Johnny Mountain, 2-Jillian Bar...   \n",
      "2561                                   0-Robert Redford   \n",
      "2562                                                NaN   \n",
      "2563                                 0-Robert Rodriguez   \n",
      "2564                                                NaN   \n",
      "\n",
      "                                          Official Site  \n",
      "0                 http://www.amc.com/shows/breaking-bad  \n",
      "1                                                   NaN  \n",
      "2                     https://www.nick.com/shows/avatar  \n",
      "3              http://www.bbc.co.uk/programmes/b018ttws  \n",
      "4                                   http://shingeki.tv/  \n",
      "...                                                 ...  \n",
      "2560  http://www.tbs.com/shows/americas-next-weather...  \n",
      "2561  http://www.travelchannel.com/shows/america-the...  \n",
      "2562  http://www.destinationamerica.com/tv-shows/pro...  \n",
      "2563  https://www.elreynetwork.com/shows/originals/t...  \n",
      "2564         http://www.ahctv.com/tv-shows/gunslingers/  \n",
      "\n",
      "[2565 rows x 17 columns]\n"
     ]
    }
   ],
   "source": [
    "import pandas as pd\n",
    "import numpy as np\n",
    "import matplotlib.pyplot as plt\n",
    "import seaborn as sns\n",
    "df=pd.read_csv(r\"C:\\dataanalytics\\dataset\\tv_show_data.csv\")\n",
    "print(df)"
   ]
  },
  {
   "cell_type": "code",
   "execution_count": 2,
   "metadata": {},
   "outputs": [
    {
     "name": "stdout",
     "output_type": "stream",
     "text": [
      "<class 'pandas.core.frame.DataFrame'>\n",
      "RangeIndex: 2565 entries, 0 to 2564\n",
      "Data columns (total 17 columns):\n",
      " #   Column           Non-Null Count  Dtype  \n",
      "---  ------           --------------  -----  \n",
      " 0   Name             2565 non-null   object \n",
      " 1   Summary          2562 non-null   object \n",
      " 2   Average Runtime  2555 non-null   float64\n",
      " 3   End Date         2561 non-null   object \n",
      " 4   Premiere Date    2316 non-null   object \n",
      " 5   Genres           2565 non-null   object \n",
      " 6   Type             2565 non-null   object \n",
      " 7   Language         2565 non-null   object \n",
      " 8   Network          2454 non-null   object \n",
      " 9   Rating           1779 non-null   float64\n",
      " 10  Schedule (days)  2565 non-null   object \n",
      " 11  Schedule (time)  2220 non-null   object \n",
      " 12  Total Seasons    2565 non-null   int64  \n",
      " 13  Total Episodes   2565 non-null   int64  \n",
      " 14  Character Names  2222 non-null   object \n",
      " 15  Person Names     2222 non-null   object \n",
      " 16  Official Site    1349 non-null   object \n",
      "dtypes: float64(2), int64(2), object(13)\n",
      "memory usage: 340.8+ KB\n"
     ]
    }
   ],
   "source": [
    "df.info()"
   ]
  },
  {
   "cell_type": "markdown",
   "metadata": {},
   "source": [
    "### Change to Date Time"
   ]
  },
  {
   "cell_type": "code",
   "execution_count": 3,
   "metadata": {},
   "outputs": [],
   "source": [
    "df[\"End Date\"]=pd.to_datetime(df[\"End Date\"])\n",
    "df[\"Premiere Date\"]=pd.to_datetime(df[\"Premiere Date\"])\n",
    "df[\"Schedule (time)\"]=pd.to_datetime(df[\"Schedule (time)\"])"
   ]
  },
  {
   "cell_type": "code",
   "execution_count": 4,
   "metadata": {},
   "outputs": [
    {
     "name": "stdout",
     "output_type": "stream",
     "text": [
      "<class 'pandas.core.frame.DataFrame'>\n",
      "RangeIndex: 2565 entries, 0 to 2564\n",
      "Data columns (total 17 columns):\n",
      " #   Column           Non-Null Count  Dtype         \n",
      "---  ------           --------------  -----         \n",
      " 0   Name             2565 non-null   object        \n",
      " 1   Summary          2562 non-null   object        \n",
      " 2   Average Runtime  2555 non-null   float64       \n",
      " 3   End Date         2561 non-null   datetime64[ns]\n",
      " 4   Premiere Date    2316 non-null   datetime64[ns]\n",
      " 5   Genres           2565 non-null   object        \n",
      " 6   Type             2565 non-null   object        \n",
      " 7   Language         2565 non-null   object        \n",
      " 8   Network          2454 non-null   object        \n",
      " 9   Rating           1779 non-null   float64       \n",
      " 10  Schedule (days)  2565 non-null   object        \n",
      " 11  Schedule (time)  2220 non-null   datetime64[ns]\n",
      " 12  Total Seasons    2565 non-null   int64         \n",
      " 13  Total Episodes   2565 non-null   int64         \n",
      " 14  Character Names  2222 non-null   object        \n",
      " 15  Person Names     2222 non-null   object        \n",
      " 16  Official Site    1349 non-null   object        \n",
      "dtypes: datetime64[ns](3), float64(2), int64(2), object(10)\n",
      "memory usage: 340.8+ KB\n"
     ]
    }
   ],
   "source": [
    "df.info()"
   ]
  },
  {
   "cell_type": "markdown",
   "metadata": {},
   "source": [
    "### Checking Null Value"
   ]
  },
  {
   "cell_type": "code",
   "execution_count": 5,
   "metadata": {},
   "outputs": [
    {
     "data": {
      "text/plain": [
       "Name                  0\n",
       "Summary               3\n",
       "Average Runtime      10\n",
       "End Date              4\n",
       "Premiere Date       249\n",
       "Genres                0\n",
       "Type                  0\n",
       "Language              0\n",
       "Network             111\n",
       "Rating              786\n",
       "Schedule (days)       0\n",
       "Schedule (time)     345\n",
       "Total Seasons         0\n",
       "Total Episodes        0\n",
       "Character Names     343\n",
       "Person Names        343\n",
       "Official Site      1216\n",
       "dtype: int64"
      ]
     },
     "execution_count": 5,
     "metadata": {},
     "output_type": "execute_result"
    }
   ],
   "source": [
    "df.isna().sum()"
   ]
  },
  {
   "cell_type": "markdown",
   "metadata": {},
   "source": [
    "### Renaming Columns"
   ]
  },
  {
   "cell_type": "code",
   "execution_count": 6,
   "metadata": {},
   "outputs": [
    {
     "name": "stdout",
     "output_type": "stream",
     "text": [
      "                            Name  \\\n",
      "0                   Breaking Bad   \n",
      "1                        Firefly   \n",
      "2     Avatar: The Last Airbender   \n",
      "3                       Sherlock   \n",
      "4                Attack on Titan   \n",
      "...                          ...   \n",
      "2560   America's Next Weatherman   \n",
      "2561       America the Beautiful   \n",
      "2562           Project Afterlife   \n",
      "2563        The Director's Chair   \n",
      "2564                 Gunslingers   \n",
      "\n",
      "                                                Summary  Average_Runtime  \\\n",
      "0     Breaking Bad follows protagonist Walter White,...             60.0   \n",
      "1     Five hundred years in the future, a renegade c...             64.0   \n",
      "2     Water. Earth. Fire. Air. Only the Avatar was t...             30.0   \n",
      "3     Sherlock Holmes and Dr. John Watson's adventur...             90.0   \n",
      "4     Known in Japan as Shingeki no Kyojin, many yea...             26.0   \n",
      "...                                                 ...              ...   \n",
      "2560  America's Next Weatherman has each classic rea...             30.0   \n",
      "2561  America's vast and iconic landscapes host clim...             30.0   \n",
      "2562  People who say they have visited the afterlife...             60.0   \n",
      "2563  The Director's Chair is candid, off-the-cuff c...             60.0   \n",
      "2564  American Heroes Channel's new series, Gunsling...             45.0   \n",
      "\n",
      "       End_Date Premiere_Date                                       Genres  \\\n",
      "0    2008-01-20    2019-10-11               ['Drama', 'Crime', 'Thriller']   \n",
      "1    2002-09-20    2002-12-20    ['Drama', 'Adventure', 'Science-Fiction']   \n",
      "2    2005-02-21    2008-07-19           ['Action', 'Adventure', 'Fantasy']   \n",
      "3    2010-07-25    2017-01-15                ['Drama', 'Crime', 'Mystery']   \n",
      "4    2013-04-07    2023-11-04  ['Action', 'Adventure', 'Anime', 'Fantasy']   \n",
      "...         ...           ...                                          ...   \n",
      "2560 2015-08-08    2015-09-26                                   ['Comedy']   \n",
      "2561 2015-08-09    2016-05-22                         ['Nature', 'Travel']   \n",
      "2562 2015-08-09    2015-09-13                                           []   \n",
      "2563 2014-07-30    2018-11-26                                           []   \n",
      "2564 2014-07-20    2015-08-23                                  ['Western']   \n",
      "\n",
      "             Type  Language              Network  Rating Schedule(days)  \\\n",
      "0        Scripted   English                  AMC     9.2     ['Sunday']   \n",
      "1        Scripted   English                  FOX     9.0     ['Friday']   \n",
      "2       Animation   English          Nickelodeon     8.9   ['Saturday']   \n",
      "3        Scripted   English              BBC One     8.9     ['Sunday']   \n",
      "4       Animation  Japanese                  NHK     8.9   ['Saturday']   \n",
      "...           ...       ...                  ...     ...            ...   \n",
      "2560      Reality   English                  TBS     NaN   ['Saturday']   \n",
      "2561  Documentary   English       Travel Channel     NaN     ['Sunday']   \n",
      "2562  Documentary   English  Destination America     NaN     ['Sunday']   \n",
      "2563    Talk Show   English       El Rey Network     NaN     ['Sunday']   \n",
      "2564  Documentary   English                  AHC     NaN     ['Sunday']   \n",
      "\n",
      "          Schedule(time)  Total_Seasons  Total_Episodes  \\\n",
      "0    2025-03-03 22:00:00              5              62   \n",
      "1    2025-03-03 20:00:00              1              14   \n",
      "2    2025-03-03 11:00:00              3              61   \n",
      "3    2025-03-03 21:00:00              4              12   \n",
      "4    2025-03-03 00:10:00              4              89   \n",
      "...                  ...            ...             ...   \n",
      "2560 2025-03-03 23:00:00              1               8   \n",
      "2561 2025-03-03 12:00:00              2              10   \n",
      "2562 2025-03-03 22:00:00              1               6   \n",
      "2563 2025-03-03 20:00:00              1              12   \n",
      "2564 2025-03-03 22:00:00              2              12   \n",
      "\n",
      "                                        Character_Names  \\\n",
      "0     0-Walter White, 1-Jesse Pinkman, 2-Skyler Whit...   \n",
      "1     0-Captain Malcolm \"Mal\" Reynolds, 1-Zoe Alleyn...   \n",
      "2     0-Aang, 1-Katara, 2-Sokka, 3-Zuko, 4-Appa, 5-M...   \n",
      "3                  0-Sherlock Holmes, 1-Dr. John Watson   \n",
      "4      0-Mikasa Ackerman, 1-Armin Arlert, 2-Eren Jaeger   \n",
      "...                                                 ...   \n",
      "2560                           0-Host, 1-Judge, 2-Judge   \n",
      "2561                                         0-Narrator   \n",
      "2562                                                NaN   \n",
      "2563                                             0-Host   \n",
      "2564                                                NaN   \n",
      "\n",
      "                                           Person_Names  \\\n",
      "0     0-Bryan Cranston, 1-Aaron Paul, 2-Anna Gunn, 3...   \n",
      "1     0-Nathan Fillion, 1-Gina Torres, 2-Alan Tudyk,...   \n",
      "2     0-Zach Tyler, 1-Mae Whitman, 2-Jack De Sena, 3...   \n",
      "3              0-Benedict Cumberbatch, 1-Martin Freeman   \n",
      "4           0-Yui Ishikawa, 1-Marina Inoue, 2-Yûki Kaji   \n",
      "...                                                 ...   \n",
      "2560  0-Matt Oberg, 1-Johnny Mountain, 2-Jillian Bar...   \n",
      "2561                                   0-Robert Redford   \n",
      "2562                                                NaN   \n",
      "2563                                 0-Robert Rodriguez   \n",
      "2564                                                NaN   \n",
      "\n",
      "                                          Official_Site  \n",
      "0                 http://www.amc.com/shows/breaking-bad  \n",
      "1                                                   NaN  \n",
      "2                     https://www.nick.com/shows/avatar  \n",
      "3              http://www.bbc.co.uk/programmes/b018ttws  \n",
      "4                                   http://shingeki.tv/  \n",
      "...                                                 ...  \n",
      "2560  http://www.tbs.com/shows/americas-next-weather...  \n",
      "2561  http://www.travelchannel.com/shows/america-the...  \n",
      "2562  http://www.destinationamerica.com/tv-shows/pro...  \n",
      "2563  https://www.elreynetwork.com/shows/originals/t...  \n",
      "2564         http://www.ahctv.com/tv-shows/gunslingers/  \n",
      "\n",
      "[2565 rows x 17 columns]\n"
     ]
    }
   ],
   "source": [
    "df=df.rename(columns={\"End Date\":\"End_Date\",\"Premiere Date\":\"Premiere_Date\",\"Average Runtime\":\"Average_Runtime\",\"Schedule (days)\":\"Schedule(days)\",\"Schedule (time)\":\"Schedule(time)\",\n",
    "                    \"Total Seasons\":\"Total_Seasons\",\"Total Episodes\":\"Total_Episodes\",\"Character Names\":\"Character_Names\",\n",
    "                    \"Person Names\":\"Person_Names\",\"Official Site\":\"Official_Site\",\"Schedule(days)\":\"Schedule_days\",\"Schedule(time)\":\"Schedule_time\"})\n",
    "print(df)"
   ]
  },
  {
   "cell_type": "code",
   "execution_count": 7,
   "metadata": {},
   "outputs": [
    {
     "data": {
      "text/plain": [
       "Name                  0\n",
       "Summary               3\n",
       "Average_Runtime      10\n",
       "End_Date              4\n",
       "Premiere_Date       249\n",
       "Genres                0\n",
       "Type                  0\n",
       "Language              0\n",
       "Network             111\n",
       "Rating              786\n",
       "Schedule(days)        0\n",
       "Schedule(time)      345\n",
       "Total_Seasons         0\n",
       "Total_Episodes        0\n",
       "Character_Names     343\n",
       "Person_Names        343\n",
       "Official_Site      1216\n",
       "dtype: int64"
      ]
     },
     "execution_count": 7,
     "metadata": {},
     "output_type": "execute_result"
    }
   ],
   "source": [
    "df.isna().sum()"
   ]
  },
  {
   "cell_type": "markdown",
   "metadata": {},
   "source": [
    "### Adding Data To Null Space"
   ]
  },
  {
   "cell_type": "code",
   "execution_count": 8,
   "metadata": {},
   "outputs": [],
   "source": [
    "df[\"Average_Runtime\"].fillna(60,inplace=True)"
   ]
  },
  {
   "cell_type": "code",
   "execution_count": 9,
   "metadata": {},
   "outputs": [],
   "source": [
    "a=df[\"Rating\"].mean()\n",
    "df[\"Rating\"].fillna(a,inplace=True)"
   ]
  },
  {
   "cell_type": "code",
   "execution_count": 10,
   "metadata": {},
   "outputs": [],
   "source": [
    "a=df[\"Premiere_Date\"].mean()\n",
    "df[\"Premiere_Date\"].fillna(a,inplace=True)"
   ]
  },
  {
   "cell_type": "code",
   "execution_count": 11,
   "metadata": {},
   "outputs": [],
   "source": [
    "a=df[\"End_Date\"].median()\n",
    "df[\"End_Date\"].fillna(a,inplace=True)"
   ]
  },
  {
   "cell_type": "code",
   "execution_count": 12,
   "metadata": {},
   "outputs": [],
   "source": [
    "a=df[\"Schedule(time)\"].mean()\n",
    "df[\"Schedule(time)\"].fillna(a,inplace=True)"
   ]
  },
  {
   "cell_type": "code",
   "execution_count": 13,
   "metadata": {},
   "outputs": [],
   "source": [
    "df[\"Official_Site\"].fillna(\"site not available\",inplace=True)"
   ]
  },
  {
   "cell_type": "code",
   "execution_count": 14,
   "metadata": {},
   "outputs": [],
   "source": [
    "df[\"Character_Names\"].fillna(\"unknown\",inplace=True)"
   ]
  },
  {
   "cell_type": "code",
   "execution_count": 15,
   "metadata": {},
   "outputs": [],
   "source": [
    "df[\"Person_Names\"].fillna(\"unknown\",inplace=True)"
   ]
  },
  {
   "cell_type": "code",
   "execution_count": 16,
   "metadata": {},
   "outputs": [],
   "source": [
    "df[\"Network\"].fillna(\"network unavailable\",inplace=True)"
   ]
  },
  {
   "cell_type": "code",
   "execution_count": 17,
   "metadata": {},
   "outputs": [],
   "source": [
    "df[\"Summary\"].fillna(\"summary not available\",inplace=True)"
   ]
  },
  {
   "cell_type": "code",
   "execution_count": 18,
   "metadata": {},
   "outputs": [
    {
     "data": {
      "text/plain": [
       "Name               0\n",
       "Summary            0\n",
       "Average_Runtime    0\n",
       "End_Date           0\n",
       "Premiere_Date      0\n",
       "Genres             0\n",
       "Type               0\n",
       "Language           0\n",
       "Network            0\n",
       "Rating             0\n",
       "Schedule(days)     0\n",
       "Schedule(time)     0\n",
       "Total_Seasons      0\n",
       "Total_Episodes     0\n",
       "Character_Names    0\n",
       "Person_Names       0\n",
       "Official_Site      0\n",
       "dtype: int64"
      ]
     },
     "execution_count": 18,
     "metadata": {},
     "output_type": "execute_result"
    }
   ],
   "source": [
    "df.isna().sum()"
   ]
  },
  {
   "cell_type": "markdown",
   "metadata": {},
   "source": [
    "### Checking Duplicates"
   ]
  },
  {
   "cell_type": "code",
   "execution_count": 19,
   "metadata": {},
   "outputs": [
    {
     "data": {
      "text/plain": [
       "0"
      ]
     },
     "execution_count": 19,
     "metadata": {},
     "output_type": "execute_result"
    }
   ],
   "source": [
    "df.duplicated().sum()"
   ]
  },
  {
   "cell_type": "markdown",
   "metadata": {},
   "source": [
    "### Deleting Row"
   ]
  },
  {
   "cell_type": "code",
   "execution_count": 20,
   "metadata": {},
   "outputs": [
    {
     "name": "stdout",
     "output_type": "stream",
     "text": [
      "                            Name  \\\n",
      "0                   Breaking Bad   \n",
      "1                        Firefly   \n",
      "2     Avatar: The Last Airbender   \n",
      "3                       Sherlock   \n",
      "4                Attack on Titan   \n",
      "...                          ...   \n",
      "2558                    Comrades   \n",
      "2559              Cabin Truckers   \n",
      "2560   America's Next Weatherman   \n",
      "2561       America the Beautiful   \n",
      "2564                 Gunslingers   \n",
      "\n",
      "                                                Summary  Average_Runtime  \\\n",
      "0     Breaking Bad follows protagonist Walter White,...             60.0   \n",
      "1     Five hundred years in the future, a renegade c...             64.0   \n",
      "2     Water. Earth. Fire. Air. Only the Avatar was t...             30.0   \n",
      "3     Sherlock Holmes and Dr. John Watson's adventur...             90.0   \n",
      "4     Known in Japan as Shingeki no Kyojin, many yea...             26.0   \n",
      "...                                                 ...              ...   \n",
      "2558  This drama commemorates the soldiers who gave ...             60.0   \n",
      "2559  There's a dream home—and there's a dream locat...             30.0   \n",
      "2560  America's Next Weatherman has each classic rea...             30.0   \n",
      "2561  America's vast and iconic landscapes host clim...             30.0   \n",
      "2564  American Heroes Channel's new series, Gunsling...             45.0   \n",
      "\n",
      "       End_Date Premiere_Date                                       Genres  \\\n",
      "0    2008-01-20    2019-10-11               ['Drama', 'Crime', 'Thriller']   \n",
      "1    2002-09-20    2002-12-20    ['Drama', 'Adventure', 'Science-Fiction']   \n",
      "2    2005-02-21    2008-07-19           ['Action', 'Adventure', 'Fantasy']   \n",
      "3    2010-07-25    2017-01-15                ['Drama', 'Crime', 'Mystery']   \n",
      "4    2013-04-07    2023-11-04  ['Action', 'Adventure', 'Anime', 'Fantasy']   \n",
      "...         ...           ...                                          ...   \n",
      "2558 2010-06-19    2010-08-22                             ['Drama', 'War']   \n",
      "2559 2015-08-08    2016-06-10                                   ['Travel']   \n",
      "2560 2015-08-08    2015-09-26                                   ['Comedy']   \n",
      "2561 2015-08-09    2016-05-22                         ['Nature', 'Travel']   \n",
      "2564 2014-07-20    2015-08-23                                  ['Western']   \n",
      "\n",
      "             Type  Language         Network   Rating          Schedule(days)  \\\n",
      "0        Scripted   English             AMC  9.20000              ['Sunday']   \n",
      "1        Scripted   English             FOX  9.00000              ['Friday']   \n",
      "2       Animation   English     Nickelodeon  8.90000            ['Saturday']   \n",
      "3        Scripted   English         BBC One  8.90000              ['Sunday']   \n",
      "4       Animation  Japanese             NHK  8.90000            ['Saturday']   \n",
      "...           ...       ...             ...      ...                     ...   \n",
      "2558     Scripted    Korean            KBS1  7.33086  ['Saturday', 'Sunday']   \n",
      "2559      Reality   English             FYI  7.33086              ['Friday']   \n",
      "2560      Reality   English             TBS  7.33086            ['Saturday']   \n",
      "2561  Documentary   English  Travel Channel  7.33086              ['Sunday']   \n",
      "2564  Documentary   English             AHC  7.33086              ['Sunday']   \n",
      "\n",
      "          Schedule(time)  Total_Seasons  Total_Episodes  \\\n",
      "0    2025-03-03 22:00:00              5              62   \n",
      "1    2025-03-03 20:00:00              1              14   \n",
      "2    2025-03-03 11:00:00              3              61   \n",
      "3    2025-03-03 21:00:00              4              12   \n",
      "4    2025-03-03 00:10:00              4              89   \n",
      "...                  ...            ...             ...   \n",
      "2558 2025-03-03 20:55:00              1              20   \n",
      "2559 2025-03-03 09:00:00              2              26   \n",
      "2560 2025-03-03 23:00:00              1               8   \n",
      "2561 2025-03-03 12:00:00              2              10   \n",
      "2564 2025-03-03 22:00:00              2              12   \n",
      "\n",
      "                                        Character_Names  \\\n",
      "0     0-Walter White, 1-Jesse Pinkman, 2-Skyler Whit...   \n",
      "1     0-Captain Malcolm \"Mal\" Reynolds, 1-Zoe Alleyn...   \n",
      "2     0-Aang, 1-Katara, 2-Sokka, 3-Zuko, 4-Appa, 5-M...   \n",
      "3                  0-Sherlock Holmes, 1-Dr. John Watson   \n",
      "4      0-Mikasa Ackerman, 1-Armin Arlert, 2-Eren Jaeger   \n",
      "...                                                 ...   \n",
      "2558    0-Lee Hyun Joong, 1-Lee Soo Kyung, 2-Park Woong   \n",
      "2559                                            unknown   \n",
      "2560                           0-Host, 1-Judge, 2-Judge   \n",
      "2561                                         0-Narrator   \n",
      "2564                                            unknown   \n",
      "\n",
      "                                           Person_Names  \\\n",
      "0     0-Bryan Cranston, 1-Aaron Paul, 2-Anna Gunn, 3...   \n",
      "1     0-Nathan Fillion, 1-Gina Torres, 2-Alan Tudyk,...   \n",
      "2     0-Zach Tyler, 1-Mae Whitman, 2-Jack De Sena, 3...   \n",
      "3              0-Benedict Cumberbatch, 1-Martin Freeman   \n",
      "4           0-Yui Ishikawa, 1-Marina Inoue, 2-Yûki Kaji   \n",
      "...                                                 ...   \n",
      "2558      0-Choi Soo Jong, 1-Lee Tae Ran, 2-Lee Duk Hwa   \n",
      "2559                                            unknown   \n",
      "2560  0-Matt Oberg, 1-Johnny Mountain, 2-Jillian Bar...   \n",
      "2561                                   0-Robert Redford   \n",
      "2564                                            unknown   \n",
      "\n",
      "                                          Official_Site  \n",
      "0                 http://www.amc.com/shows/breaking-bad  \n",
      "1                                    site not available  \n",
      "2                     https://www.nick.com/shows/avatar  \n",
      "3              http://www.bbc.co.uk/programmes/b018ttws  \n",
      "4                                   http://shingeki.tv/  \n",
      "...                                                 ...  \n",
      "2558                    http://www.kbs.co.kr/drama/625/  \n",
      "2559             http://www.fyi.tv/shows/cabin-truckers  \n",
      "2560  http://www.tbs.com/shows/americas-next-weather...  \n",
      "2561  http://www.travelchannel.com/shows/america-the...  \n",
      "2564         http://www.ahctv.com/tv-shows/gunslingers/  \n",
      "\n",
      "[2143 rows x 17 columns]\n"
     ]
    }
   ],
   "source": [
    "# a=y[y[\"Genres\"].isin(\"[]\")].index\n",
    "# b=y.drop(a)\n",
    "# print(b)\n",
    "a=df[df[\"Genres\"] == \"[]\"].index\n",
    "df=df.drop(a)\n",
    "print(df)\n"
   ]
  },
  {
   "cell_type": "code",
   "execution_count": 21,
   "metadata": {},
   "outputs": [
    {
     "name": "stdout",
     "output_type": "stream",
     "text": [
      "<class 'pandas.core.frame.DataFrame'>\n",
      "Int64Index: 2143 entries, 0 to 2564\n",
      "Data columns (total 17 columns):\n",
      " #   Column           Non-Null Count  Dtype         \n",
      "---  ------           --------------  -----         \n",
      " 0   Name             2143 non-null   object        \n",
      " 1   Summary          2143 non-null   object        \n",
      " 2   Average_Runtime  2143 non-null   float64       \n",
      " 3   End_Date         2143 non-null   datetime64[ns]\n",
      " 4   Premiere_Date    2143 non-null   datetime64[ns]\n",
      " 5   Genres           2143 non-null   object        \n",
      " 6   Type             2143 non-null   object        \n",
      " 7   Language         2143 non-null   object        \n",
      " 8   Network          2143 non-null   object        \n",
      " 9   Rating           2143 non-null   float64       \n",
      " 10  Schedule(days)   2143 non-null   object        \n",
      " 11  Schedule(time)   2143 non-null   datetime64[ns]\n",
      " 12  Total_Seasons    2143 non-null   int64         \n",
      " 13  Total_Episodes   2143 non-null   int64         \n",
      " 14  Character_Names  2143 non-null   object        \n",
      " 15  Person_Names     2143 non-null   object        \n",
      " 16  Official_Site    2143 non-null   object        \n",
      "dtypes: datetime64[ns](3), float64(2), int64(2), object(10)\n",
      "memory usage: 301.4+ KB\n"
     ]
    }
   ],
   "source": [
    "df.info()"
   ]
  },
  {
   "cell_type": "markdown",
   "metadata": {},
   "source": [
    "### Project Questions"
   ]
  },
  {
   "cell_type": "markdown",
   "metadata": {},
   "source": [
    "1) How many series have Rating higher than 8? "
   ]
  },
  {
   "cell_type": "code",
   "execution_count": 22,
   "metadata": {},
   "outputs": [
    {
     "name": "stdout",
     "output_type": "stream",
     "text": [
      "Rating higher than 8 = 371\n"
     ]
    }
   ],
   "source": [
    "z=df[df[\"Rating\"]>=8].shape[0]\n",
    "print(\"Rating higher than 8 =\",z)"
   ]
  },
  {
   "cell_type": "markdown",
   "metadata": {},
   "source": [
    "2) Most repeated Genre?"
   ]
  },
  {
   "cell_type": "code",
   "execution_count": 23,
   "metadata": {},
   "outputs": [
    {
     "name": "stdout",
     "output_type": "stream",
     "text": [
      "['Comedy']                                    301\n",
      "['Drama']                                      93\n",
      "['Drama', 'Crime']                             91\n",
      "['Action', 'Adventure', 'Science-Fiction']     67\n",
      "['Comedy', 'Family']                           66\n",
      "                                             ... \n",
      "['Drama', 'Action', 'Mystery']                  1\n",
      "['Action', 'Adventure', 'Supernatural']         1\n",
      "['Drama', 'Crime', 'Family']                    1\n",
      "['Comedy', 'Action', 'Mystery']                 1\n",
      "['Western']                                     1\n",
      "Name: Genres, Length: 347, dtype: int64\n"
     ]
    }
   ],
   "source": [
    "a=df[\"Genres\"].explode()\n",
    "c=a.value_counts()\n",
    "print(c)"
   ]
  },
  {
   "cell_type": "markdown",
   "metadata": {},
   "source": [
    "3) Which series have the highest and lowest episodes and show its count\"?"
   ]
  },
  {
   "cell_type": "code",
   "execution_count": 24,
   "metadata": {},
   "outputs": [
    {
     "name": "stdout",
     "output_type": "stream",
     "text": [
      "Highest episode series is \n",
      "Total_Episodes\n",
      "8110    Emmerdale\n",
      "Name: Name, dtype: object\n",
      "Lowest number of episode series is\n",
      "Total_Episodes\n",
      "0    Depois do Adeus\n",
      "Name: Name, dtype: object\n"
     ]
    }
   ],
   "source": [
    "z=df.groupby(\"Total_Episodes\")[\"Name\"].max().tail(1)\n",
    "print(\"Highest episode series is \")\n",
    "print(z)\n",
    "y=z=df.groupby(\"Total_Episodes\")[\"Name\"].min().head(1)\n",
    "print(\"Lowest number of episode series is\")\n",
    "print(y)"
   ]
  },
  {
   "cell_type": "markdown",
   "metadata": {},
   "source": [
    "4) How many Animated type series are there in the data?"
   ]
  },
  {
   "cell_type": "code",
   "execution_count": 25,
   "metadata": {},
   "outputs": [
    {
     "name": "stdout",
     "output_type": "stream",
     "text": [
      "Animated type series are  210\n"
     ]
    }
   ],
   "source": [
    "z=(df[\"Type\"]==\"Animation\").sum()\n",
    "print(\"Animated type series are \",z)"
   ]
  },
  {
   "cell_type": "markdown",
   "metadata": {},
   "source": [
    "5) Most followed schedule datetime?"
   ]
  },
  {
   "cell_type": "code",
   "execution_count": 26,
   "metadata": {},
   "outputs": [
    {
     "name": "stdout",
     "output_type": "stream",
     "text": [
      "Most followed schedule is  2025-03-03 21:00:00\n"
     ]
    }
   ],
   "source": [
    "z=df[\"Schedule(time)\"].value_counts().idxmax()\n",
    "print(\"Most followed schedule is \",z)"
   ]
  },
  {
   "cell_type": "markdown",
   "metadata": {},
   "source": [
    "6) Which series have the highest rating?"
   ]
  },
  {
   "cell_type": "code",
   "execution_count": 27,
   "metadata": {},
   "outputs": [
    {
     "name": "stdout",
     "output_type": "stream",
     "text": [
      "Rating\n",
      "9.2    Breaking Bad\n",
      "Name: Name, dtype: object\n"
     ]
    }
   ],
   "source": [
    "z=df.groupby(\"Rating\")[\"Name\"].max().tail(1)\n",
    "print(z)"
   ]
  },
  {
   "cell_type": "markdown",
   "metadata": {},
   "source": [
    "7) Which Language series followed most? "
   ]
  },
  {
   "cell_type": "code",
   "execution_count": 28,
   "metadata": {},
   "outputs": [
    {
     "name": "stdout",
     "output_type": "stream",
     "text": [
      "most series language are  English\n"
     ]
    }
   ],
   "source": [
    "z=df[\"Language\"].value_counts().idxmax()\n",
    "print(\"most series language are \",z)"
   ]
  },
  {
   "cell_type": "markdown",
   "metadata": {},
   "source": [
    "8) Which series have highest and Lowest number of Seasons?"
   ]
  },
  {
   "cell_type": "code",
   "execution_count": 29,
   "metadata": {},
   "outputs": [
    {
     "name": "stdout",
     "output_type": "stream",
     "text": [
      "highest number of season series Total_Seasons\n",
      "63    Later... with Jools Holland\n",
      "Name: Name, dtype: object\n",
      "Lowest number of season series Total_Seasons\n",
      "1    Мой капитан\n",
      "Name: Name, dtype: object\n"
     ]
    }
   ],
   "source": [
    "z=df.groupby(\"Total_Seasons\")[\"Name\"].max().tail(1)\n",
    "print(\"highest number of season series\",z)\n",
    "y=z=df.groupby(\"Total_Seasons\")[\"Name\"].max().head(1)\n",
    "print(\"Lowest number of season series\",y)"
   ]
  },
  {
   "cell_type": "markdown",
   "metadata": {},
   "source": [
    "9) Which is the most common type of series and the lowest?"
   ]
  },
  {
   "cell_type": "code",
   "execution_count": 30,
   "metadata": {},
   "outputs": [
    {
     "name": "stdout",
     "output_type": "stream",
     "text": [
      "Most common series type is  Scripted\n",
      "Lowest series type is  News\n"
     ]
    }
   ],
   "source": [
    "a=df[\"Type\"].value_counts().idxmax()\n",
    "b=df[\"Type\"].value_counts().idxmin()\n",
    "print(\"Most common series type is \",a)\n",
    "print(\"Lowest series type is \",b)"
   ]
  },
  {
   "cell_type": "markdown",
   "metadata": {},
   "source": [
    "10) Find Types of series and count and plot the chart"
   ]
  },
  {
   "cell_type": "code",
   "execution_count": 31,
   "metadata": {},
   "outputs": [
    {
     "name": "stdout",
     "output_type": "stream",
     "text": [
      "types of series are--\n",
      "Scripted       1525\n",
      "Animation       210\n",
      "Reality         209\n",
      "Documentary     118\n",
      "Variety          29\n",
      "Talk Show        23\n",
      "Game Show        22\n",
      "Panel Show        3\n",
      "News              2\n",
      "Sports            2\n",
      "Name: Type, dtype: int64\n"
     ]
    },
    {
     "data": {
      "text/plain": [
       "<Axes: >"
      ]
     },
     "execution_count": 31,
     "metadata": {},
     "output_type": "execute_result"
    },
    {
     "data": {
      "image/png": "[encoded data removed]",
      "text/plain": [
       "<Figure size 640x480 with 1 Axes>"
      ]
     },
     "metadata": {},
     "output_type": "display_data"
    }
   ],
   "source": [
    "z=df[\"Type\"].value_counts()\n",
    "print(\"types of series are--\")\n",
    "print(z)\n",
    "z.plot(kind=\"bar\")"
   ]
  },
  {
   "cell_type": "markdown",
   "metadata": {},
   "source": [
    "11) How many series official site not available till now?"
   ]
  },
  {
   "cell_type": "code",
   "execution_count": 32,
   "metadata": {},
   "outputs": [
    {
     "name": "stdout",
     "output_type": "stream",
     "text": [
      "unavailable site counts=  1040\n"
     ]
    }
   ],
   "source": [
    "z=(df[\"Official_Site\"]==\"site not available\").sum()\n",
    "print(\"unavailable site counts= \",z)"
   ]
  },
  {
   "cell_type": "markdown",
   "metadata": {},
   "source": [
    "12) What is the average number of episodes per season?"
   ]
  },
  {
   "cell_type": "code",
   "execution_count": 33,
   "metadata": {},
   "outputs": [
    {
     "name": "stdout",
     "output_type": "stream",
     "text": [
      "The Average Episode per Season is  15.302355482277783\n"
     ]
    }
   ],
   "source": [
    "z=df[\"Total_Episodes\"]/df[\"Total_Seasons\"]\n",
    "print(\"The Average Episode per Season is \",z.mean())"
   ]
  },
  {
   "cell_type": "markdown",
   "metadata": {},
   "source": [
    "13) How many shows are still ongoing?"
   ]
  },
  {
   "cell_type": "code",
   "execution_count": 34,
   "metadata": {},
   "outputs": [
    {
     "name": "stdout",
     "output_type": "stream",
     "text": [
      "Still going shows count are  0\n"
     ]
    }
   ],
   "source": [
    "z=df[\"End_Date\"].isna().sum()\n",
    "print(\"Still going shows count are \",z)"
   ]
  },
  {
   "cell_type": "markdown",
   "metadata": {},
   "source": [
    "14) Which network has produced the most shows?"
   ]
  },
  {
   "cell_type": "code",
   "execution_count": 35,
   "metadata": {},
   "outputs": [
    {
     "name": "stdout",
     "output_type": "stream",
     "text": [
      "Network which is produced most shows is  ABC\n"
     ]
    }
   ],
   "source": [
    "z=df[\"Network\"].value_counts().idxmax()\n",
    "print(\"Network which is produced most shows is \",z)"
   ]
  },
  {
   "cell_type": "markdown",
   "metadata": {},
   "source": [
    "15) How many shows are in each language?"
   ]
  },
  {
   "cell_type": "code",
   "execution_count": 36,
   "metadata": {},
   "outputs": [
    {
     "name": "stdout",
     "output_type": "stream",
     "text": [
      "Each Language shows are \n",
      "English       1980\n",
      "Japanese        86\n",
      "Dutch           20\n",
      "Spanish         16\n",
      "Korean          10\n",
      "French           7\n",
      "German           6\n",
      "Danish           4\n",
      "Portuguese       4\n",
      "Thai             3\n",
      "Swedish          2\n",
      "Italian          1\n",
      "Norwegian        1\n",
      "Welsh            1\n",
      "Hebrew           1\n",
      "Russian          1\n",
      "Name: Language, dtype: int64\n"
     ]
    },
    {
     "data": {
      "text/plain": [
       "<Axes: >"
      ]
     },
     "execution_count": 36,
     "metadata": {},
     "output_type": "execute_result"
    },
    {
     "data": {
      "image/png": "[encoded data removed]",
      "text/plain": [
       "<Figure size 640x480 with 1 Axes>"
      ]
     },
     "metadata": {},
     "output_type": "display_data"
    }
   ],
   "source": [
    "z=df[\"Language\"].value_counts()\n",
    "print(\"Each Language shows are \")\n",
    "print(z)\n",
    "z.plot(kind=\"bar\")"
   ]
  },
  {
   "cell_type": "markdown",
   "metadata": {},
   "source": [
    "16) Which are the 5 highest network which have most shows? and plot in pie chart"
   ]
  },
  {
   "cell_type": "code",
   "execution_count": 37,
   "metadata": {},
   "outputs": [
    {
     "name": "stdout",
     "output_type": "stream",
     "text": [
      "ABC        200\n",
      "NBC        170\n",
      "CBS        129\n",
      "FOX        107\n",
      "BBC One    105\n",
      "Name: Network, dtype: int64\n"
     ]
    },
    {
     "data": {
      "text/plain": [
       "<Axes: ylabel='Network'>"
      ]
     },
     "execution_count": 37,
     "metadata": {},
     "output_type": "execute_result"
    },
    {
     "data": {
      "image/png": "[encoded data removed]",
      "text/plain": [
       "<Figure size 640x480 with 1 Axes>"
      ]
     },
     "metadata": {},
     "output_type": "display_data"
    }
   ],
   "source": [
    "z=df[\"Network\"].value_counts().head(5)\n",
    "print(z)\n",
    "z.plot(kind=\"pie\")"
   ]
  },
  {
   "cell_type": "markdown",
   "metadata": {},
   "source": [
    "## Conclusion"
   ]
  },
  {
   "cell_type": "markdown",
   "metadata": {},
   "source": [
    "The Data is based on TV show. It shows the detailes of the shows and its regardings. In this data the Rating higher which is higher than 8 have 371 series, the most rated series is Breaking Bad which has the rating of 9.2. The series are in different Genres and the most common Genre among them is Comedy.Highest episode series is Emmerdale and the Lowest number of episode series is Depois do Adeus, Highest number of season series 'Later... with Jools Holland' which have 63 seasons and the Lowest number of season series is 'Мой капитан' which have 1 season. The Most followed schedule is  2025-03-01. English, Japanese, Dutch, Spanish, orean, French, German, Danish, Portuguese, Thai, Swedish, Italian, Norwegian, Welsh, Hebrew, Russian are the languages followed from the shows and the most common language is English. Most common series type is  Scripted and Lowest series type is  News. Every shows have its site in the data and there 1040 sites are unavailable. The Average Episode per Season is  15. Network which is produced most shows is ABC and there are 0 shows Still going now."
   ]
  },
  {
   "cell_type": "markdown",
   "metadata": {},
   "source": []
  }
 ],
 "metadata": {
  "kernelspec": {
   "display_name": "base",
   "language": "python",
   "name": "python3"
  },
  "language_info": {
   "codemirror_mode": {
    "name": "ipython",
    "version": 3
   },
   "file_extension": ".py",
   "mimetype": "text/x-python",
   "name": "python",
   "nbconvert_exporter": "python",
   "pygments_lexer": "ipython3",
   "version": "3.10.9"
  }
 },
 "nbformat": 4,
 "nbformat_minor": 2
}
